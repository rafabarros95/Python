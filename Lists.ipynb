{
 "cells": [
  {
   "cell_type": "markdown",
   "id": "fb64cc64-d4f0-47e7-8f7d-82668c021352",
   "metadata": {},
   "source": [
    "# Python - Lists \n"
   ]
  },
  {
   "cell_type": "code",
   "execution_count": null,
   "id": "08a20126-44f7-4ff2-ad4e-7d5b87e4823f",
   "metadata": {},
   "outputs": [],
   "source": [
    "\n",
    "    "
   ]
  },
  {
   "cell_type": "code",
   "execution_count": null,
   "id": "d0e400cb-e3a0-4159-b14a-c8cb3060c482",
   "metadata": {},
   "outputs": [],
   "source": []
  }
 ],
 "metadata": {
  "kernelspec": {
   "display_name": "base",
   "language": "python",
   "name": "python3"
  },
  "language_info": {
   "codemirror_mode": {
    "name": "ipython",
    "version": 3
   },
   "file_extension": ".py",
   "mimetype": "text/x-python",
   "name": "python",
   "nbconvert_exporter": "python",
   "pygments_lexer": "ipython3",
   "version": "3.12.7"
  }
 },
 "nbformat": 4,
 "nbformat_minor": 5
}
